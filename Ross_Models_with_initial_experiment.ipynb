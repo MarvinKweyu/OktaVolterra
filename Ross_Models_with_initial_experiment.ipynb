{
  "cells": [
    {
      "cell_type": "markdown",
      "metadata": {
        "id": "view-in-github",
        "colab_type": "text"
      },
      "source": [
        "<a href=\"https://colab.research.google.com/github/MarvinKweyu/ode_models/blob/main/Ross_Models_with_initial_experiment.ipynb\" target=\"_parent\"><img src=\"https://colab.research.google.com/assets/colab-badge.svg\" alt=\"Open In Colab\"/></a>"
      ]
    },
    {
      "cell_type": "markdown",
      "id": "c02e16f6",
      "metadata": {
        "id": "c02e16f6"
      },
      "source": [
        "# Todo\n",
        "\n",
        "1. Check basic and extended *Ross*-model for the spread of malaria."
      ]
    },
    {
      "cell_type": "markdown",
      "id": "5b3be617",
      "metadata": {
        "id": "5b3be617"
      },
      "source": [
        "## REMARK BM\n",
        "\n",
        "1. Girolami uses Gamma priors in Section 7 of Bayesian Inference for Differential Equations.\n",
        "\n",
        "**Motivation**: This is a reasonable prior density to assume for these parameters as, (1) it has support on the positive part of the real line and so satisfies the positivity constraints on the kinetic parameters and the noise variance, (2) it possesses a variance which is sufficiently wide to cover the plausible range of values for the kinetic parameters so as to retain the same scaling as the variables S, D, R and Rpp of the model.\n",
        "\n",
        "\n",
        "2. SA COVID-19 study uses mostly lognormal for the parameters and half-Cauchy for the initial state based on Priesemann group paper/github  "
      ]
    },
    {
      "cell_type": "code",
      "execution_count": 2,
      "id": "c7938a55",
      "metadata": {
        "id": "c7938a55"
      },
      "outputs": [],
      "source": [
        "import numpy as np\n",
        "from scipy.integrate import solve_ivp, odeint\n",
        "import matplotlib.pyplot as plt\n",
        "%matplotlib inline"
      ]
    },
    {
      "cell_type": "code",
      "source": [
        "!pip install pints"
      ],
      "metadata": {
        "colab": {
          "base_uri": "https://localhost:8080/"
        },
        "id": "wB-iEvI5nuNP",
        "outputId": "4114f084-e79c-4dbc-dc9f-4cfc7bb12a2f"
      },
      "id": "wB-iEvI5nuNP",
      "execution_count": 1,
      "outputs": [
        {
          "output_type": "stream",
          "name": "stdout",
          "text": [
            "Collecting pints\n",
            "  Downloading pints-0.5.0-py3-none-any.whl.metadata (6.0 kB)\n",
            "Collecting cma>=2 (from pints)\n",
            "  Downloading cma-4.0.0-py3-none-any.whl.metadata (8.0 kB)\n",
            "Requirement already satisfied: numpy>=1.8 in /usr/local/lib/python3.10/dist-packages (from pints) (1.26.4)\n",
            "Requirement already satisfied: scipy>=0.14 in /usr/local/lib/python3.10/dist-packages (from pints) (1.13.1)\n",
            "Requirement already satisfied: matplotlib>=1.5 in /usr/local/lib/python3.10/dist-packages (from pints) (3.7.1)\n",
            "Requirement already satisfied: tabulate in /usr/local/lib/python3.10/dist-packages (from pints) (0.9.0)\n",
            "Requirement already satisfied: threadpoolctl in /usr/local/lib/python3.10/dist-packages (from pints) (3.5.0)\n",
            "Requirement already satisfied: contourpy>=1.0.1 in /usr/local/lib/python3.10/dist-packages (from matplotlib>=1.5->pints) (1.3.0)\n",
            "Requirement already satisfied: cycler>=0.10 in /usr/local/lib/python3.10/dist-packages (from matplotlib>=1.5->pints) (0.12.1)\n",
            "Requirement already satisfied: fonttools>=4.22.0 in /usr/local/lib/python3.10/dist-packages (from matplotlib>=1.5->pints) (4.54.1)\n",
            "Requirement already satisfied: kiwisolver>=1.0.1 in /usr/local/lib/python3.10/dist-packages (from matplotlib>=1.5->pints) (1.4.7)\n",
            "Requirement already satisfied: packaging>=20.0 in /usr/local/lib/python3.10/dist-packages (from matplotlib>=1.5->pints) (24.1)\n",
            "Requirement already satisfied: pillow>=6.2.0 in /usr/local/lib/python3.10/dist-packages (from matplotlib>=1.5->pints) (10.4.0)\n",
            "Requirement already satisfied: pyparsing>=2.3.1 in /usr/local/lib/python3.10/dist-packages (from matplotlib>=1.5->pints) (3.2.0)\n",
            "Requirement already satisfied: python-dateutil>=2.7 in /usr/local/lib/python3.10/dist-packages (from matplotlib>=1.5->pints) (2.8.2)\n",
            "Requirement already satisfied: six>=1.5 in /usr/local/lib/python3.10/dist-packages (from python-dateutil>=2.7->matplotlib>=1.5->pints) (1.16.0)\n",
            "Downloading pints-0.5.0-py3-none-any.whl (284 kB)\n",
            "\u001b[2K   \u001b[90m━━━━━━━━━━━━━━━━━━━━━━━━━━━━━━━━━━━━━━━━\u001b[0m \u001b[32m284.9/284.9 kB\u001b[0m \u001b[31m4.5 MB/s\u001b[0m eta \u001b[36m0:00:00\u001b[0m\n",
            "\u001b[?25hDownloading cma-4.0.0-py3-none-any.whl (283 kB)\n",
            "\u001b[2K   \u001b[90m━━━━━━━━━━━━━━━━━━━━━━━━━━━━━━━━━━━━━━━━\u001b[0m \u001b[32m283.5/283.5 kB\u001b[0m \u001b[31m8.5 MB/s\u001b[0m eta \u001b[36m0:00:00\u001b[0m\n",
            "\u001b[?25hInstalling collected packages: cma, pints\n",
            "Successfully installed cma-4.0.0 pints-0.5.0\n"
          ]
        }
      ]
    },
    {
      "cell_type": "code",
      "execution_count": 3,
      "id": "d63283cb",
      "metadata": {
        "id": "d63283cb"
      },
      "outputs": [],
      "source": [
        "import pints\n",
        "import pints.toy\n",
        "import pints.plot"
      ]
    },
    {
      "cell_type": "code",
      "execution_count": 4,
      "id": "cbd8a3a8",
      "metadata": {
        "colab": {
          "base_uri": "https://localhost:8080/"
        },
        "id": "cbd8a3a8",
        "outputId": "4825a460-faeb-4eb8-a364-e0acec0a3800"
      },
      "outputs": [
        {
          "output_type": "stream",
          "name": "stderr",
          "text": [
            "<ipython-input-4-54615cba562a>:3: DeprecationWarning: `product` is deprecated as of NumPy 1.25.0, and will be removed in NumPy 2.0. Please use `prod` instead.\n",
            "  c_prior = pints.UniformLogPrior(0, 1)\n"
          ]
        }
      ],
      "source": [
        "a_prior = pints.GammaLogPrior(a=1, b=1) #? review\n",
        "b_prior = pints.HalfCauchyLogPrior(location=0, scale=1) # to give +ve vals. No -ve humans\n",
        "c_prior = pints.UniformLogPrior(0, 1) #"
      ]
    },
    {
      "cell_type": "code",
      "execution_count": 5,
      "id": "44871253",
      "metadata": {
        "id": "44871253"
      },
      "outputs": [],
      "source": [
        "samples = c_prior.sample(n=1_000)"
      ]
    },
    {
      "cell_type": "code",
      "execution_count": 6,
      "id": "4617efdf",
      "metadata": {
        "colab": {
          "base_uri": "https://localhost:8080/"
        },
        "id": "4617efdf",
        "outputId": "905ed622-4c25-4b10-c251-3b22e1fe7cf3"
      },
      "outputs": [
        {
          "output_type": "execute_result",
          "data": {
            "text/plain": [
              "False"
            ]
          },
          "metadata": {},
          "execution_count": 6
        }
      ],
      "source": [
        "np.min(samples)==0.0"
      ]
    },
    {
      "cell_type": "code",
      "execution_count": 7,
      "id": "199b2804",
      "metadata": {
        "colab": {
          "base_uri": "https://localhost:8080/",
          "height": 430
        },
        "id": "199b2804",
        "outputId": "bafced9b-175a-482e-8620-cd581b349c26"
      },
      "outputs": [
        {
          "output_type": "display_data",
          "data": {
            "text/plain": [
              "<Figure size 640x480 with 1 Axes>"
            ],
            "image/png": "[encoded data removed]"
          },
          "metadata": {}
        }
      ],
      "source": [
        "plt.hist(x=samples, density=True, bins=np.linspace(0, 1, 50));"
      ]
    },
    {
      "cell_type": "markdown",
      "id": "ff114d14",
      "metadata": {
        "id": "ff114d14"
      },
      "source": [
        "# Basic model $\\text{Ross}_0$"
      ]
    },
    {
      "cell_type": "code",
      "execution_count": 8,
      "id": "46dc040c",
      "metadata": {
        "id": "46dc040c"
      },
      "outputs": [],
      "source": [
        "class ModelRoss0(pints.ForwardModel, pints.toy.ToyModel):\n",
        "    \"\"\"\n",
        "    my_model = ModelRoss0(t0=1, tf=34, model_pars=6)\n",
        "    \"\"\"\n",
        "    def __init__(self, s0, t0, tf, nbsteps, model_pars: int = 6):\n",
        "        if len(s0) != 2:\n",
        "            raise ValueError('Initial state must have 2 coordinates.')\n",
        "        if np.any(s0 < 0):\n",
        "            raise ValueError('State variables cannot be negative.')\n",
        "        self.s0 = s0\n",
        "        self.t_span = np.linspace(t0, tf, num=nbsteps, endpoint=True)\n",
        "        self.pars = model_pars\n",
        "        self.unknowns = None\n",
        "\n",
        "    def Ross0(self, s, t, a, b, c, m, mu, r):\n",
        "        '''INPUT: state $s = (h, m)$, imestep '$t$, and\n",
        "                  the reduced number of parameters A, B, C, D of the dynamical system\n",
        "           OUTPUT: change in state $ds/dt = (dh/dt, dm/dt)$.\n",
        "           REMARK: solve_ivp assumes signature time, state, parameters\n",
        "                   while ode_int signature state, time, parameters,\n",
        "                   i.e. time and state are reversed.\n",
        "        '''\n",
        "        (Ih, Im) = s\n",
        "        A, B = a*b*m, a*c\n",
        "        dIh = -r*Ih + A*Im*(1-Ih)\n",
        "        dIm = -mu*Im + B*Ih*(1-Im)\n",
        "        return np.array([dIh, dIm])\n",
        "\n",
        "    def simulate(self, parameters, times):\n",
        "        a, b, c, m, mu, r = parameters\n",
        "        # Run a simulation with the given parameters for the\n",
        "        # given times and return the simulated values\n",
        "        y = odeint(self.Ross0, self.s0, times, args=(a, b, c, m, mu, r))\n",
        "        return y\n",
        "\n",
        "    def n_parameters(self):\n",
        "        # Parameters are the unknowns. Here, the model parameters a, b, c, m, mu, and r, and\n",
        "        # the variances of the noise in the observations of h and m.\n",
        "        # Return the numnber of 'parameters'\n",
        "        return 6\n",
        "\n",
        "    def n_outputs(self):\n",
        "        \"\"\" See :meth:`pints.ForwardModel.n_outputs()`. \"\"\"\n",
        "        # essentially ih and Im\n",
        "        return 2"
      ]
    },
    {
      "cell_type": "markdown",
      "id": "a7045e34",
      "metadata": {
        "id": "a7045e34"
      },
      "source": [
        "### Basic reproductive number\n",
        "\n",
        "The basic reproductive number is defined as\n",
        "$$R_0 = \\frac{ma^2bc}{r \\mu}$$"
      ]
    },
    {
      "cell_type": "code",
      "execution_count": 9,
      "id": "2c4c48e4",
      "metadata": {
        "id": "2c4c48e4"
      },
      "outputs": [],
      "source": [
        "def get_parameter_values(pars):\n",
        "    return pars[r'$a$'], pars[r'$b$'], pars[r'$c$'], pars[r'$m$'], pars[r'$\\mu_m$'], pars[r'$r$']"
      ]
    },
    {
      "cell_type": "code",
      "execution_count": 10,
      "id": "053b290e",
      "metadata": {
        "id": "053b290e"
      },
      "outputs": [],
      "source": [
        "def get_basic_reproductive_number(pars):\n",
        "    # check on this num\n",
        "    a, b, c, m, mu, r = get_parameter_values(pars)\n",
        "    return (m*(a**2)*b*c)/(r*mu)"
      ]
    },
    {
      "cell_type": "markdown",
      "id": "65fa184b",
      "metadata": {
        "id": "65fa184b"
      },
      "source": [
        "## Model $Ross_0$ and its Parameter Values\n",
        "\n",
        "Parameter values used in Figure 3 of Mandal et al. Malaria Journal 2011, 10:202 are given below."
      ]
    },
    {
      "cell_type": "markdown",
      "id": "90d32ec9",
      "metadata": {
        "id": "90d32ec9"
      },
      "source": [
        "def Ross0(t, s, A, B, C, D):\n",
        "    '''INPUT: timestep '$t$, state $s$, and parameters of the dynamical system\n",
        "       OUTPUT: change in state $ds/dt$.\n",
        "       REMARK: solve_ivp assumes signature time, state, parameters\n",
        "               while ode_int signature state, time, parameters,\n",
        "               i.e. time and state are reversed.'''\n",
        "    (h, m) = s\n",
        "    dhdt = -A*h + B*m*(1-h)\n",
        "    dmdt = -C*m + D*h*(1-m)\n",
        "    return np.array([dhdt, dmdt])"
      ]
    },
    {
      "cell_type": "code",
      "execution_count": 11,
      "id": "9e8a573a",
      "metadata": {
        "id": "9e8a573a"
      },
      "outputs": [],
      "source": [
        "PARS_ROSS0_Fig3 = {r'$a$':0.2, r'$b$':0.5, r'$c$':0.5, r'$m$':20, r'$\\mu_m$':0.12, r'$r$':0.01}"
      ]
    },
    {
      "cell_type": "code",
      "execution_count": 12,
      "id": "de25cffd",
      "metadata": {
        "colab": {
          "base_uri": "https://localhost:8080/"
        },
        "id": "de25cffd",
        "outputId": "a75affab-e691-41ab-ad08-09453b3ca205"
      },
      "outputs": [
        {
          "output_type": "execute_result",
          "data": {
            "text/plain": [
              "(0.2, 0.5, 0.5, 20, 0.12, 0.01)"
            ]
          },
          "metadata": {},
          "execution_count": 12
        }
      ],
      "source": [
        "get_parameter_values(PARS_ROSS0_Fig3)"
      ]
    },
    {
      "cell_type": "code",
      "execution_count": 13,
      "id": "b45923f4",
      "metadata": {
        "colab": {
          "base_uri": "https://localhost:8080/"
        },
        "id": "b45923f4",
        "outputId": "e4b095f7-b074-4f27-ce8d-5138f07aabab"
      },
      "outputs": [
        {
          "output_type": "execute_result",
          "data": {
            "text/plain": [
              "166.6666666666667"
            ]
          },
          "metadata": {},
          "execution_count": 13
        }
      ],
      "source": [
        "get_basic_reproductive_number(PARS_ROSS0_Fig3)"
      ]
    },
    {
      "cell_type": "code",
      "execution_count": 14,
      "id": "5566ebec",
      "metadata": {
        "id": "5566ebec"
      },
      "outputs": [],
      "source": [
        "# after creating an instance of the model\n",
        "def run_simulation(model):\n",
        "    times = model.t_span\n",
        "    pars = model.pars\n",
        "    return model.simulate(pars, times)\n",
        "  #"
      ]
    },
    {
      "cell_type": "code",
      "execution_count": 38,
      "id": "70f13637",
      "metadata": {
        "id": "70f13637"
      },
      "outputs": [],
      "source": [
        "def plot_Ross0_simulation(times, states):\n",
        "    \"\"\"\n",
        "    Plot humans and mosquitos\n",
        "    \"\"\"\n",
        "    (h, m) = states[:,0], states[:,1]\n",
        "    plt.plot(times, h, color='brown', label=r'$h$')\n",
        "    plt.plot(times, m, color='red', label=r'$m$')\n",
        "    return plt"
      ]
    },
    {
      "cell_type": "code",
      "source": [
        "def plot_Ross1_simulation(times, states):\n",
        "    \"\"\"\n",
        "    Ignore any Ross1\n",
        "    \"\"\"\n",
        "    fig, ax = plt.subplots(nrows=1, ncols=1, figsize=(9,6))\n",
        "    (Sh, Ih, Rh, Sm, Im) = states[:,0], states[:,1], states[:,2], states[:,3], states[:,4]\n",
        "    ax.plot(times, Sh, color='blue', label=r'$S_h$')\n",
        "    ax.plot(times, Ih, color='red', label=r'$I_h$')\n",
        "    ax.plot(times, Rh, color='green', label=r'$R_h$')\n",
        "    ax.plot(times, Sm, '--', color='blue', label=r'$S_m$')\n",
        "    ax.plot(times, Im, '--', color='red', label=r'$I_m$')\n",
        "    ax.legend()\n",
        "    return fig"
      ],
      "metadata": {
        "id": "3ISYNj8u5Azp"
      },
      "id": "3ISYNj8u5Azp",
      "execution_count": 16,
      "outputs": []
    },
    {
      "cell_type": "code",
      "execution_count": 17,
      "id": "254e3a26",
      "metadata": {
        "id": "254e3a26"
      },
      "outputs": [],
      "source": [
        "from types import NoneType #? where is NoneType being used after import\n",
        "# Todo: specify return type as tuple\n",
        "def run_and_plot_simulation(model, basic_Ross_p=True) -> tuple:\n",
        "    states = run_simulation(model)\n",
        "    times = model.t_span\n",
        "    fig = plot_Ross0_simulation(times, states) if basic_Ross_p else plot_Ross1_simulation(times, states)\n",
        "    return fig, states"
      ]
    },
    {
      "cell_type": "code",
      "source": [
        "type(plt)"
      ],
      "metadata": {
        "colab": {
          "base_uri": "https://localhost:8080/"
        },
        "id": "J88pE1lR2XQo",
        "outputId": "6b15e1a9-70c2-4c10-a314-26a5caf0789d"
      },
      "id": "J88pE1lR2XQo",
      "execution_count": 18,
      "outputs": [
        {
          "output_type": "execute_result",
          "data": {
            "text/plain": [
              "module"
            ]
          },
          "metadata": {},
          "execution_count": 18
        }
      ]
    },
    {
      "cell_type": "markdown",
      "id": "f39fca2b",
      "metadata": {
        "id": "f39fca2b"
      },
      "source": [
        "# Unknowns in $Ross_0$\n",
        "\n",
        "Everything we are uncertain about are called the unknowns. We want to generate a posterior distribution over these unknowns.\n",
        "\n",
        "In our case the unknowns are the model parameters $a, b, c, m, \\mu_m, \\text{ and } r$, and the variances $\\sigma_h$ and $\\sigma_m$ of the noise in ourobservations of $h$ and $m$.\n",
        "\n",
        "In order to obtain the posterior we have to define a prior for each of the unknowns. We assume a uniform prior for the model parameters and\n",
        "a Gaussian one for the noise."
      ]
    },
    {
      "cell_type": "code",
      "execution_count": 19,
      "id": "e344d035",
      "metadata": {
        "id": "e344d035"
      },
      "outputs": [],
      "source": [
        "par_strings = [r'$a$', r'$b$', r'$c$', r'$m$', r'$\\mu_m$', r'$r$']"
      ]
    },
    {
      "cell_type": "code",
      "execution_count": 20,
      "id": "759b9dda",
      "metadata": {
        "colab": {
          "base_uri": "https://localhost:8080/"
        },
        "id": "759b9dda",
        "outputId": "da172342-4a04-4083-a0f4-ab103ca3e01d"
      },
      "outputs": [
        {
          "output_type": "execute_result",
          "data": {
            "text/plain": [
              "array([2.0e-01, 5.0e-01, 5.0e-01, 2.0e+01, 1.2e-01, 1.0e-02, 1.0e-02,\n",
              "       1.0e-03])"
            ]
          },
          "metadata": {},
          "execution_count": 20
        }
      ],
      "source": [
        "PARS_Fig3 = {r'$a$':0.2, r'$b$':0.5, r'$c$':0.5, r'$m$':20, r'$\\mu_m$':0.12, r'$r$':0.01}\n",
        "# infections in humans vs infections in mosquitos\n",
        "# ToDo: move these to constants?  since they are proved.\n",
        "S0_Fig3 = np.array([0.01, 0.001])\n",
        "\n",
        "# get_parameter_values(PARS_Fig3) = (0.2, 0.5, 0.5, 20, 0.12, 0.01)\n",
        "GROUND_TRUTH_Fig3 = np.append(np.array(get_parameter_values(PARS_Fig3)), S0_Fig3)\n",
        "GROUND_TRUTH_Fig3"
      ]
    },
    {
      "cell_type": "code",
      "execution_count": 21,
      "id": "979fc6a4",
      "metadata": {
        "id": "979fc6a4"
      },
      "outputs": [],
      "source": [
        "def create_samples(truth, N: int = 1):\n",
        "    \"\"\"\n",
        "    truth: ? ground truths: a np array )\n",
        "    n: int :num of samples\n",
        "    \"\"\"\n",
        "    samples = np.zeros(shape=(N, truth.size))\n",
        "    noises = 1 + 0.1*np.random.randn(N) # likelihood. Random noise\n",
        "    for idx in np.arange(N):\n",
        "        samples[idx,:] = noises[idx]*truth # place it\n",
        "    return samples"
      ]
    },
    {
      "cell_type": "code",
      "execution_count": 22,
      "id": "a5b5c473",
      "metadata": {
        "id": "a5b5c473"
      },
      "outputs": [],
      "source": [
        "def Ross0(s, t, a, b, c, m, mu, r):\n",
        "    '''INPUT: state $s = (h, m)$, imestep '$t$, and\n",
        "              the reduced number of parameters A, B, C, D of the dynamical system\n",
        "       OUTPUT: change in state $ds/dt = (dh/dt, dm/dt)$.\n",
        "       REMARK: solve_ivp assumes signature time, state, parameters\n",
        "               while ode_int signature state, time, parameters,\n",
        "               i.e. time and state are reversed.\n",
        "    '''\n",
        "    (Ih, Im) = s\n",
        "    A, B = a*b*m, a*c\n",
        "    dIh = -r*Ih + A*Im*(1-Ih)\n",
        "    dIm = -mu*Im + B*Ih*(1-Im)\n",
        "    return np.array([dIh, dIm])"
      ]
    },
    {
      "cell_type": "code",
      "execution_count": 23,
      "id": "b57ff067",
      "metadata": {
        "colab": {
          "base_uri": "https://localhost:8080/"
        },
        "id": "b57ff067",
        "outputId": "e7daf52d-2bf7-436b-c388-af2516e899e7"
      },
      "outputs": [
        {
          "output_type": "execute_result",
          "data": {
            "text/plain": [
              "(array([0.01 , 0.001]),\n",
              " array([2.0e-01, 5.0e-01, 5.0e-01, 2.0e+01, 1.2e-01, 1.0e-02]))"
            ]
          },
          "metadata": {},
          "execution_count": 23
        }
      ],
      "source": [
        "Y0 = GROUND_TRUTH_Fig3[6:]\n",
        "ARGS = GROUND_TRUTH_Fig3[:6]\n",
        "Y0, ARGS"
      ]
    },
    {
      "cell_type": "code",
      "execution_count": 24,
      "id": "81855e02",
      "metadata": {
        "colab": {
          "base_uri": "https://localhost:8080/"
        },
        "id": "81855e02",
        "outputId": "8990e61d-2fdd-42b4-a56e-c0456d37517e"
      },
      "outputs": [
        {
          "output_type": "execute_result",
          "data": {
            "text/plain": [
              "(2,)"
            ]
          },
          "metadata": {},
          "execution_count": 24
        }
      ],
      "source": [
        "Y0.shape"
      ]
    },
    {
      "cell_type": "code",
      "execution_count": 25,
      "id": "4dd6d1c2",
      "metadata": {
        "colab": {
          "base_uri": "https://localhost:8080/"
        },
        "id": "4dd6d1c2",
        "outputId": "69a99e43-b965-4ce7-e4af-481c538a5f81"
      },
      "outputs": [
        {
          "output_type": "execute_result",
          "data": {
            "text/plain": [
              "(0.2, 0.5, 0.5, 20.0, 0.12, 0.01)"
            ]
          },
          "metadata": {},
          "execution_count": 25
        }
      ],
      "source": [
        "tuple(ARGS)"
      ]
    },
    {
      "cell_type": "code",
      "execution_count": 26,
      "id": "96f2de90",
      "metadata": {
        "id": "96f2de90"
      },
      "outputs": [],
      "source": [
        "y = odeint(Ross0, y0=Y0, t=np.arange(150), args=tuple(ARGS))\n",
        "# can use pymc or odeint"
      ]
    },
    {
      "cell_type": "code",
      "execution_count": 27,
      "id": "c5dc9c00",
      "metadata": {
        "colab": {
          "base_uri": "https://localhost:8080/",
          "height": 466
        },
        "id": "c5dc9c00",
        "outputId": "993c272c-7942-4e68-9915-4a5aecc2e2d6"
      },
      "outputs": [
        {
          "output_type": "execute_result",
          "data": {
            "text/plain": [
              "[<matplotlib.lines.Line2D at 0x795d400f3dc0>,\n",
              " <matplotlib.lines.Line2D at 0x795d400f0d60>]"
            ]
          },
          "metadata": {},
          "execution_count": 27
        },
        {
          "output_type": "display_data",
          "data": {
            "text/plain": [
              "<Figure size 640x480 with 1 Axes>"
            ],
            "image/png": "[encoded data removed]"
          },
          "metadata": {}
        }
      ],
      "source": [
        "plt.plot(y) # initial plot without uncertainity"
      ]
    },
    {
      "cell_type": "code",
      "execution_count": 39,
      "id": "4e6926d3",
      "metadata": {
        "id": "4e6926d3",
        "outputId": "a77458de-f275-4929-ad9b-7603ce3ecc39",
        "colab": {
          "base_uri": "https://localhost:8080/"
        }
      },
      "outputs": [
        {
          "output_type": "execute_result",
          "data": {
            "text/plain": [
              "numpy.ndarray"
            ]
          },
          "metadata": {},
          "execution_count": 39
        }
      ],
      "source": [
        "SAMPLES = create_samples(truth=GROUND_TRUTH_Fig3, N=1_000)\n",
        "type(SAMPLES)"
      ]
    },
    {
      "cell_type": "code",
      "source": [
        "SAMPLES\n",
        "# [A, B, C, R, MU, M] * 1000"
      ],
      "metadata": {
        "id": "QhQpAQHzBtQD",
        "outputId": "c8dc55d8-6333-48d4-d49a-dcdedb16bfb6",
        "colab": {
          "base_uri": "https://localhost:8080/"
        }
      },
      "id": "QhQpAQHzBtQD",
      "execution_count": 40,
      "outputs": [
        {
          "output_type": "execute_result",
          "data": {
            "text/plain": [
              "array([[0.1958829 , 0.48970725, 0.48970725, ..., 0.00979414, 0.00979414,\n",
              "        0.00097941],\n",
              "       [0.18575225, 0.46438064, 0.46438064, ..., 0.00928761, 0.00928761,\n",
              "        0.00092876],\n",
              "       [0.22332171, 0.55830428, 0.55830428, ..., 0.01116609, 0.01116609,\n",
              "        0.00111661],\n",
              "       ...,\n",
              "       [0.19615338, 0.49038345, 0.49038345, ..., 0.00980767, 0.00980767,\n",
              "        0.00098077],\n",
              "       [0.19142167, 0.47855418, 0.47855418, ..., 0.00957108, 0.00957108,\n",
              "        0.00095711],\n",
              "       [0.19574248, 0.48935621, 0.48935621, ..., 0.00978712, 0.00978712,\n",
              "        0.00097871]])"
            ]
          },
          "metadata": {},
          "execution_count": 40
        }
      ]
    },
    {
      "cell_type": "code",
      "execution_count": 29,
      "id": "fa9e36b7",
      "metadata": {
        "id": "fa9e36b7"
      },
      "outputs": [],
      "source": [
        "# OBS"
      ]
    },
    {
      "cell_type": "code",
      "execution_count": 30,
      "id": "3855ff5e",
      "metadata": {
        "id": "3855ff5e"
      },
      "outputs": [],
      "source": [
        "def multiple_runs(samples: np.ndarray = [], t_final: int =150):\n",
        "\n",
        "    N, _ = samples.shape # ? prolly 1000\n",
        "    Ih = np.zeros(shape=(N, t_final))\n",
        "    Im = np.zeros_like(Ih)\n",
        "\n",
        "    for n in np.arange(N):\n",
        "        sample = samples[n]\n",
        "        initial_state, pars = sample[6:], tuple(sample[:6]) # come back here\n",
        "        y = odeint(Ross0, y0=initial_state, t=np.arange(t_final), args=pars)\n",
        "        yT = y.T # where t = time. Confirm\n",
        "        Ih[n,:], Im[n,:] = yT[0], yT[1]\n",
        "    return Ih, Im\n"
      ]
    },
    {
      "cell_type": "code",
      "execution_count": 31,
      "id": "6a1cccd0",
      "metadata": {
        "id": "6a1cccd0"
      },
      "outputs": [],
      "source": [
        "Ih, Im = multiple_runs(samples=SAMPLES)"
      ]
    },
    {
      "cell_type": "code",
      "execution_count": 32,
      "id": "4eda0025",
      "metadata": {
        "id": "4eda0025"
      },
      "outputs": [],
      "source": [
        "def plot_uncertainty(Ih, Im, t_final):\n",
        "    avg_Ih, std_Ih = np.average(Ih, axis=0), np.std(Ih, axis=0)\n",
        "    avg_Im, std_Im = np.average(Im, axis=0), np.std(Im, axis=0)\n",
        "    avg_Ih, std_Ih = avg_Ih[:t_final], std_Ih[:t_final]\n",
        "    avg_Im, std_Im = avg_Im[:t_final], std_Im[:t_final]\n",
        "    fig, ax = plt.subplots(nrows=1, ncols=1, figsize=(9, 6))\n",
        "    dom = np.arange(t_final)\n",
        "\n",
        "    ax.plot(dom, avg_Ih, color='blue', label=r'$I_h$')\n",
        "    plt.fill_between(dom, avg_Ih - std_Ih, avg_Ih + std_Ih,\n",
        "                     color='blue', alpha=0.2)\n",
        "    ax.plot(dom, avg_Im, color='red', label=r'$I_m$')\n",
        "    ax.fill_between(dom, avg_Im - std_Im, avg_Im + std_Im,\n",
        "                    color='red', alpha=0.2)\n",
        "    ax.set(xlabel='Time (days)', ylabel='Prevalence')\n",
        "    ax.legend()\n",
        "    return fig"
      ]
    },
    {
      "cell_type": "code",
      "execution_count": 33,
      "id": "3b896f31",
      "metadata": {
        "colab": {
          "base_uri": "https://localhost:8080/",
          "height": 542
        },
        "id": "3b896f31",
        "outputId": "0513b814-e886-41b1-d403-67adce6ea1d6"
      },
      "outputs": [
        {
          "output_type": "display_data",
          "data": {
            "text/plain": [
              "<Figure size 900x600 with 1 Axes>"
            ],
            "image/png": "[encoded data removed]"
          },
          "metadata": {}
        }
      ],
      "source": [
        "FIG2 = plot_uncertainty(Ih, Im, t_final=50)"
      ]
    },
    {
      "cell_type": "code",
      "execution_count": 34,
      "id": "5c4ef410",
      "metadata": {
        "colab": {
          "base_uri": "https://localhost:8080/",
          "height": 203
        },
        "id": "5c4ef410",
        "outputId": "5bd911fe-32b8-4346-8b76-503af7cc7e76"
      },
      "outputs": [
        {
          "output_type": "execute_result",
          "data": {
            "text/plain": [
              "<function matplotlib.pyplot.scatter(x, y, s=None, c=None, marker=None, cmap=None, norm=None, vmin=None, vmax=None, alpha=None, linewidths=None, *, edgecolors=None, plotnonfinite=False, data=None, **kwargs)>"
            ],
            "text/html": [
              "<div style=\"max-width:800px; border: 1px solid var(--colab-border-color);\"><style>\n",
              "      pre.function-repr-contents {\n",
              "        overflow-x: auto;\n",
              "        padding: 8px 12px;\n",
              "        max-height: 500px;\n",
              "      }\n",
              "\n",
              "      pre.function-repr-contents.function-repr-contents-collapsed {\n",
              "        cursor: pointer;\n",
              "        max-height: 100px;\n",
              "      }\n",
              "    </style>\n",
              "    <pre style=\"white-space: initial; background:\n",
              "         var(--colab-secondary-surface-color); padding: 8px 12px;\n",
              "         border-bottom: 1px solid var(--colab-border-color);\"><b>matplotlib.pyplot.scatter</b><br/>def scatter(x, y, s=None, c=None, marker=None, cmap=None, norm=None, vmin=None, vmax=None, alpha=None, linewidths=None, *, edgecolors=None, plotnonfinite=False, data=None, **kwargs)</pre><pre class=\"function-repr-contents function-repr-contents-collapsed\" style=\"\"><a class=\"filepath\" style=\"display:none\" href=\"#\">/usr/local/lib/python3.10/dist-packages/matplotlib/pyplot.py</a>A scatter plot of *y* vs. *x* with varying marker size and/or color.\n",
              "\n",
              "Parameters\n",
              "----------\n",
              "x, y : float or array-like, shape (n, )\n",
              "    The data positions.\n",
              "\n",
              "s : float or array-like, shape (n, ), optional\n",
              "    The marker size in points**2 (typographic points are 1/72 in.).\n",
              "    Default is ``rcParams[&#x27;lines.markersize&#x27;] ** 2``.\n",
              "\n",
              "c : array-like or list of colors or color, optional\n",
              "    The marker colors. Possible values:\n",
              "\n",
              "    - A scalar or sequence of n numbers to be mapped to colors using\n",
              "      *cmap* and *norm*.\n",
              "    - A 2D array in which the rows are RGB or RGBA.\n",
              "    - A sequence of colors of length n.\n",
              "    - A single color format string.\n",
              "\n",
              "    Note that *c* should not be a single numeric RGB or RGBA sequence\n",
              "    because that is indistinguishable from an array of values to be\n",
              "    colormapped. If you want to specify the same RGB or RGBA value for\n",
              "    all points, use a 2D array with a single row.  Otherwise,\n",
              "    value-matching will have precedence in case of a size matching with\n",
              "    *x* and *y*.\n",
              "\n",
              "    If you wish to specify a single color for all points\n",
              "    prefer the *color* keyword argument.\n",
              "\n",
              "    Defaults to `None`. In that case the marker color is determined\n",
              "    by the value of *color*, *facecolor* or *facecolors*. In case\n",
              "    those are not specified or `None`, the marker color is determined\n",
              "    by the next color of the ``Axes``&#x27; current &quot;shape and fill&quot; color\n",
              "    cycle. This cycle defaults to :rc:`axes.prop_cycle`.\n",
              "\n",
              "marker : `~.markers.MarkerStyle`, default: :rc:`scatter.marker`\n",
              "    The marker style. *marker* can be either an instance of the class\n",
              "    or the text shorthand for a particular marker.\n",
              "    See :mod:`matplotlib.markers` for more information about marker\n",
              "    styles.\n",
              "\n",
              "cmap : str or `~matplotlib.colors.Colormap`, default: :rc:`image.cmap`\n",
              "    The Colormap instance or registered colormap name used to map scalar data\n",
              "    to colors.\n",
              "\n",
              "    This parameter is ignored if *c* is RGB(A).\n",
              "\n",
              "norm : str or `~matplotlib.colors.Normalize`, optional\n",
              "    The normalization method used to scale scalar data to the [0, 1] range\n",
              "    before mapping to colors using *cmap*. By default, a linear scaling is\n",
              "    used, mapping the lowest value to 0 and the highest to 1.\n",
              "\n",
              "    If given, this can be one of the following:\n",
              "\n",
              "    - An instance of `.Normalize` or one of its subclasses\n",
              "      (see :doc:`/tutorials/colors/colormapnorms`).\n",
              "    - A scale name, i.e. one of &quot;linear&quot;, &quot;log&quot;, &quot;symlog&quot;, &quot;logit&quot;, etc.  For a\n",
              "      list of available scales, call `matplotlib.scale.get_scale_names()`.\n",
              "      In that case, a suitable `.Normalize` subclass is dynamically generated\n",
              "      and instantiated.\n",
              "\n",
              "    This parameter is ignored if *c* is RGB(A).\n",
              "\n",
              "vmin, vmax : float, optional\n",
              "    When using scalar data and no explicit *norm*, *vmin* and *vmax* define\n",
              "    the data range that the colormap covers. By default, the colormap covers\n",
              "    the complete value range of the supplied data. It is an error to use\n",
              "    *vmin*/*vmax* when a *norm* instance is given (but using a `str` *norm*\n",
              "    name together with *vmin*/*vmax* is acceptable).\n",
              "\n",
              "    This parameter is ignored if *c* is RGB(A).\n",
              "\n",
              "alpha : float, default: None\n",
              "    The alpha blending value, between 0 (transparent) and 1 (opaque).\n",
              "\n",
              "linewidths : float or array-like, default: :rc:`lines.linewidth`\n",
              "    The linewidth of the marker edges. Note: The default *edgecolors*\n",
              "    is &#x27;face&#x27;. You may want to change this as well.\n",
              "\n",
              "edgecolors : {&#x27;face&#x27;, &#x27;none&#x27;, *None*} or color or sequence of color, default: :rc:`scatter.edgecolors`\n",
              "    The edge color of the marker. Possible values:\n",
              "\n",
              "    - &#x27;face&#x27;: The edge color will always be the same as the face color.\n",
              "    - &#x27;none&#x27;: No patch boundary will be drawn.\n",
              "    - A color or sequence of colors.\n",
              "\n",
              "    For non-filled markers, *edgecolors* is ignored. Instead, the color\n",
              "    is determined like with &#x27;face&#x27;, i.e. from *c*, *colors*, or\n",
              "    *facecolors*.\n",
              "\n",
              "plotnonfinite : bool, default: False\n",
              "    Whether to plot points with nonfinite *c* (i.e. ``inf``, ``-inf``\n",
              "    or ``nan``). If ``True`` the points are drawn with the *bad*\n",
              "    colormap color (see `.Colormap.set_bad`).\n",
              "\n",
              "Returns\n",
              "-------\n",
              "`~matplotlib.collections.PathCollection`\n",
              "\n",
              "Other Parameters\n",
              "----------------\n",
              "data : indexable object, optional\n",
              "    If given, the following parameters also accept a string ``s``, which is\n",
              "    interpreted as ``data[s]`` (unless this raises an exception):\n",
              "\n",
              "    *x*, *y*, *s*, *linewidths*, *edgecolors*, *c*, *facecolor*, *facecolors*, *color*\n",
              "**kwargs : `~matplotlib.collections.Collection` properties\n",
              "\n",
              "See Also\n",
              "--------\n",
              "plot : To plot scatter plots when markers are identical in size and\n",
              "    color.\n",
              "\n",
              "Notes\n",
              "-----\n",
              "* The `.plot` function will be faster for scatterplots where markers\n",
              "  don&#x27;t vary in size or color.\n",
              "\n",
              "* Any or all of *x*, *y*, *s*, and *c* may be masked arrays, in which\n",
              "  case all masks will be combined and only unmasked points will be\n",
              "  plotted.\n",
              "\n",
              "* Fundamentally, scatter works with 1D arrays; *x*, *y*, *s*, and *c*\n",
              "  may be input as N-D arrays, but within scatter they will be\n",
              "  flattened. The exception is *c*, which will be flattened only if its\n",
              "  size matches the size of *x* and *y*.</pre>\n",
              "      <script>\n",
              "      if (google.colab.kernel.accessAllowed && google.colab.files && google.colab.files.view) {\n",
              "        for (const element of document.querySelectorAll('.filepath')) {\n",
              "          element.style.display = 'block'\n",
              "          element.onclick = (event) => {\n",
              "            event.preventDefault();\n",
              "            event.stopPropagation();\n",
              "            google.colab.files.view(element.textContent, 2857);\n",
              "          };\n",
              "        }\n",
              "      }\n",
              "      for (const element of document.querySelectorAll('.function-repr-contents')) {\n",
              "        element.onclick = (event) => {\n",
              "          event.preventDefault();\n",
              "          event.stopPropagation();\n",
              "          element.classList.toggle('function-repr-contents-collapsed');\n",
              "        };\n",
              "      }\n",
              "      </script>\n",
              "      </div>"
            ]
          },
          "metadata": {},
          "execution_count": 34
        }
      ],
      "source": [
        "plt.scatter"
      ]
    },
    {
      "cell_type": "code",
      "execution_count": 35,
      "id": "7de54d01",
      "metadata": {
        "id": "7de54d01"
      },
      "outputs": [],
      "source": [
        "FIG2.savefig('./UncertaintyProp')"
      ]
    },
    {
      "cell_type": "code",
      "execution_count": 36,
      "id": "78644652",
      "metadata": {
        "colab": {
          "base_uri": "https://localhost:8080/",
          "height": 430
        },
        "id": "78644652",
        "outputId": "d08c21db-0ea2-4ed6-bc89-6722a4da1bc0"
      },
      "outputs": [
        {
          "output_type": "display_data",
          "data": {
            "text/plain": [
              "<Figure size 640x480 with 1 Axes>"
            ],
            "image/png": "[encoded data removed]"
          },
          "metadata": {}
        }
      ],
      "source": [
        "plt.errorbar(x=np.arange(150), y=np.average(Ih, axis=0), yerr=np.std(Ih, axis=0), fmt='.k');\n",
        "plt.errorbar(x=np.arange(150), y=np.average(Im, axis=0), yerr=np.std(Im, axis=0), fmt='.k');"
      ]
    },
    {
      "cell_type": "code",
      "execution_count": 37,
      "id": "40c6bd5a",
      "metadata": {
        "colab": {
          "base_uri": "https://localhost:8080/",
          "height": 126
        },
        "id": "40c6bd5a",
        "outputId": "95f4a1db-f5a3-44d9-eea8-c74db6ce846c"
      },
      "outputs": [
        {
          "output_type": "error",
          "ename": "SyntaxError",
          "evalue": "iterable argument unpacking follows keyword argument unpacking (<ipython-input-37-036ee837af3d>, line 1)",
          "traceback": [
            "\u001b[0;36m  File \u001b[0;32m\"<ipython-input-37-036ee837af3d>\"\u001b[0;36m, line \u001b[0;32m1\u001b[0m\n\u001b[0;31m    plt.errorbar(x=np.arange(150), y=np.arange(150), yerr=None, xerr=None, fmt='', ecolor=None, elinewidth=None, capsize=None, barsabove=False, lolims=False, uplims=False, xlolims=False, xuplims=False, errorevery=1, capthick=None, *, data=None)\u001b[0m\n\u001b[0m                 ^\u001b[0m\n\u001b[0;31mSyntaxError\u001b[0m\u001b[0;31m:\u001b[0m iterable argument unpacking follows keyword argument unpacking\n"
          ]
        }
      ],
      "source": [
        "plt.errorbar(x=np.arange(150), y=np.arange(150), yerr=None, xerr=None, fmt='', ecolor=None, elinewidth=None, capsize=None, barsabove=False, lolims=False, uplims=False, xlolims=False, xuplims=False, errorevery=1, capthick=None, *, data=None)"
      ]
    },
    {
      "cell_type": "code",
      "execution_count": null,
      "id": "b797d3f8",
      "metadata": {
        "id": "b797d3f8"
      },
      "outputs": [],
      "source": [
        "np.std"
      ]
    },
    {
      "cell_type": "code",
      "execution_count": null,
      "id": "007a59d1",
      "metadata": {
        "id": "007a59d1"
      },
      "outputs": [],
      "source": [
        "S = SAMPLES[0]\n",
        "initial_state, pars = S[6:], tuple(S[:6])\n",
        "initial_state, pars"
      ]
    },
    {
      "cell_type": "code",
      "execution_count": null,
      "id": "9216cbcb",
      "metadata": {
        "id": "9216cbcb"
      },
      "outputs": [],
      "source": [
        "y = odeint(Ross0, y0=initial_state, t=np.arange(150), args=tuple(pars))"
      ]
    },
    {
      "cell_type": "code",
      "execution_count": null,
      "id": "14847ab0",
      "metadata": {
        "id": "14847ab0"
      },
      "outputs": [],
      "source": [
        "INIT_SAMPLES = np.vstack((GROUND_TRUTH_Fig3*0.9,\n",
        "                          GROUND_TRUTH_Fig3*0.95,\n",
        "                          GROUND_TRUTH_Fig3*1.05))\n",
        "INIT_SAMPLES"
      ]
    },
    {
      "cell_type": "code",
      "execution_count": null,
      "id": "d86c4cb3",
      "metadata": {
        "id": "d86c4cb3"
      },
      "outputs": [],
      "source": [
        "M0 = ModelRoss0(s0=S0_Fig3,\n",
        "                t0=0, tf=250, nbsteps=25,\n",
        "                model_pars=get_parameter_values(PARS_Fig3))"
      ]
    },
    {
      "cell_type": "code",
      "execution_count": null,
      "id": "7c45c410",
      "metadata": {
        "id": "7c45c410"
      },
      "outputs": [],
      "source": [
        "fig_test, STATES = run_and_plot_simulation(model=M0)"
      ]
    },
    {
      "cell_type": "code",
      "source": [
        "print(STATES)"
      ],
      "metadata": {
        "id": "Vjwl6d0jtyMA"
      },
      "id": "Vjwl6d0jtyMA",
      "execution_count": null,
      "outputs": []
    },
    {
      "cell_type": "code",
      "source": [
        "fig_test.savefig(\"chores.png\")"
      ],
      "metadata": {
        "id": "sZrYeulKxmMr"
      },
      "id": "sZrYeulKxmMr",
      "execution_count": null,
      "outputs": []
    },
    {
      "cell_type": "code",
      "execution_count": null,
      "id": "8049898c",
      "metadata": {
        "id": "8049898c"
      },
      "outputs": [],
      "source": [
        "OBS = np.random.uniform(low=0.9, high=1.1, size=STATES.shape)*STATES\n",
        "#! states is a nontype object"
      ]
    },
    {
      "cell_type": "code",
      "execution_count": null,
      "id": "d769b2aa",
      "metadata": {
        "id": "d769b2aa"
      },
      "outputs": [],
      "source": [
        "plt.scatter(OBS[:,0], OBS[:,1], color='red')\n",
        "plt.plot(STATES, color='blue');"
      ]
    },
    {
      "cell_type": "code",
      "execution_count": null,
      "id": "d206a61d",
      "metadata": {
        "id": "d206a61d"
      },
      "outputs": [],
      "source": [
        "M0Problem = pints.MultiOutputProblem(M0, np.arange(0, 250, 10), OBS)"
      ]
    },
    {
      "cell_type": "markdown",
      "id": "18b0d8bf",
      "metadata": {
        "id": "18b0d8bf"
      },
      "source": [
        "## Priors\n",
        "\n",
        "**REMARK BM**: Neglect priors, likelihoods, and posteriors for the moment. We will use\n",
        "\n",
        "1. lognormal priors for the parameters of $Ross_0$ since they are all positive. We still have to determine the parameters of the lognormal.\n",
        "2. half-Cauchy for the initial state. Again we still have to determine the parameters of these distributions."
      ]
    },
    {
      "cell_type": "code",
      "execution_count": null,
      "id": "5a62bdb3",
      "metadata": {
        "id": "5a62bdb3"
      },
      "outputs": [],
      "source": [
        "pars_log_prior = pints.UniformLogPrior(\n",
        "    # Sequence of parameters: [r'$a$', r'$b$', r'$c$', r'$m$', r'$\\mu_m$', r'$r$']\n",
        "    # Each row contain the lower and upper bound of the corresponding parameter\n",
        "    #lower_or_boundaries=\n",
        "    [0.01, 0.2, 0.4, 0.5, 0.05, 0.005],\n",
        "    #upper=\n",
        "    [0.5,  0.5, 0.5,  40, 0.5,  0.5])"
      ]
    },
    {
      "cell_type": "code",
      "execution_count": null,
      "id": "9ae86c22",
      "metadata": {
        "id": "9ae86c22"
      },
      "outputs": [],
      "source": [
        "state_log_prior = pints.UniformLogPrior(\n",
        "    # Prevalence of Ih followed by that of Im\n",
        "    lower_or_boundaries=[0.0001, 0.0001],\n",
        "    upper=[1, 1])\n"
      ]
    },
    {
      "cell_type": "code",
      "execution_count": null,
      "id": "d9365dc0",
      "metadata": {
        "id": "d9365dc0"
      },
      "outputs": [],
      "source": [
        "M0LogPrior = pints.ComposedLogPrior(pars_log_prior)\n",
        "M0LogLikelihood = pints.GaussianKnownSigmaLogLikelihood(M0Problem, sigma=0.01)\n",
        "M0LogPosterior = pints.LogPosterior(M0LogLikelihood, M0LogPrior)\n",
        "M0Error = pints.SumOfSquaresError(M0Problem)"
      ]
    },
    {
      "cell_type": "code",
      "execution_count": null,
      "id": "d291e95d",
      "metadata": {
        "id": "d291e95d"
      },
      "outputs": [],
      "source": [
        "pints.mcmc_sample(log_pdf=M0LogPosterior, chains=1, x0=[GROUND_TRUTH_Fig3])"
      ]
    },
    {
      "cell_type": "code",
      "execution_count": null,
      "id": "5ca8c857",
      "metadata": {
        "id": "5ca8c857"
      },
      "outputs": [],
      "source": [
        "MCMC = pints.MCMCController(M0LogPosterior, 3, INIT_SAMPLES, method=pints.HaarioBardenetACMC)"
      ]
    },
    {
      "cell_type": "code",
      "execution_count": null,
      "id": "12e637b0",
      "metadata": {
        "id": "12e637b0"
      },
      "outputs": [],
      "source": [
        "def setup_prior():\n",
        "    pass"
      ]
    },
    {
      "cell_type": "code",
      "execution_count": null,
      "id": "eb3ccb8e",
      "metadata": {
        "id": "eb3ccb8e"
      },
      "outputs": [],
      "source": [
        "def generate_initial_samples(model, n_chains=4):\n",
        "    pars, init_state = model.pars, model.s0\n",
        "    parent_sample = np.append(pars, init_state)\n",
        "    n_unknowns = len(pars) + len(init_state)\n",
        "    scales = np.random.uniform(low=0.9, high=1.1, size=(n_chains, n_unknowns))\n",
        "    offspring_samples = scales*parent_sample\n",
        "    return offspring_samples"
      ]
    },
    {
      "cell_type": "code",
      "source": [
        "pe"
      ],
      "metadata": {
        "id": "SNKGH6_19Pto"
      },
      "id": "SNKGH6_19Pto",
      "execution_count": null,
      "outputs": []
    },
    {
      "cell_type": "code",
      "execution_count": null,
      "id": "4b6f1608",
      "metadata": {
        "id": "4b6f1608"
      },
      "outputs": [],
      "source": [
        "def run_sampler(model, s=0.01, n_chains=4, max_iter=3_000):\n",
        "    times = model.t_span\n",
        "    states = run_simulation(model)\n",
        "    N, d = states.shape\n",
        "    obs = states + s*np.random.randn(N, d)\n",
        "    problem = pints.MultiOutputProblem(model, times, obs)\n",
        "    error = pints.SumOfSquaresError(problem)\n",
        "    log_likelihood = pints.GaussianLogLikelihood(problem)\n",
        "    initial_samples = generate_initial_samples(model, n_chains)\n",
        "\n",
        "    mcmc = pints.MCMCController(log_likelihood, n_chains, initial_samples, method=pints.HaarioBardenetACMC)\n",
        "    mcmc.set_max_iterations(max_iter)\n",
        "    mcmc.set_log_to_screen(False)\n",
        "    chains = mcmc.run()\n",
        "    return mcmc, chains, problem"
      ]
    },
    {
      "cell_type": "markdown",
      "id": "84d3ed61",
      "metadata": {
        "id": "84d3ed61"
      },
      "source": [
        "## Run MCMC to obtain the posterior"
      ]
    },
    {
      "cell_type": "code",
      "execution_count": null,
      "id": "0e7d959e",
      "metadata": {
        "id": "0e7d959e"
      },
      "outputs": [],
      "source": [
        "MCMC_R0, CHAINS_R0, PROBLEM_0 = run_sampler(model=M0)"
      ]
    },
    {
      "cell_type": "code",
      "source": [
        "print(CHAINS_R0)"
      ],
      "metadata": {
        "collapsed": true,
        "id": "h5y8RsFl7K1c"
      },
      "id": "h5y8RsFl7K1c",
      "execution_count": null,
      "outputs": []
    },
    {
      "cell_type": "code",
      "source": [
        "print(CHAIN)"
      ],
      "metadata": {
        "id": "nc-qMF5O9Ex9"
      },
      "id": "nc-qMF5O9Ex9",
      "execution_count": null,
      "outputs": []
    },
    {
      "cell_type": "code",
      "execution_count": null,
      "id": "e73929ba",
      "metadata": {
        "id": "e73929ba"
      },
      "outputs": [],
      "source": [
        "MCMC_R0.time()"
      ]
    },
    {
      "cell_type": "code",
      "execution_count": null,
      "id": "2cab1e6e",
      "metadata": {
        "id": "2cab1e6e"
      },
      "outputs": [],
      "source": [
        "# SAMPLES0 = CHAINS0[0, -1000:]\n",
        "SAMPLES0 = CHAINS_R0[0, -1000:]\n",
        "\n",
        "plt.figure()\n",
        "fig, axes = pints.plot.series(SAMPLES0, M0Problem)\n",
        "axes[0].plot(TIMES0, OBS0[:, 0], c='red', alpha=0.1)\n",
        "axes[1].plot(TIMES0, OBS0[:, 1], c='blue', alpha=0.1);"
      ]
    },
    {
      "cell_type": "code",
      "execution_count": null,
      "id": "dc43979d",
      "metadata": {
        "id": "dc43979d"
      },
      "outputs": [],
      "source": [
        "# Check convergence and other properties of chains\n",
        "RESULTS_R0 = pints.MCMCSummary(\n",
        "    chains=CHAINS_R0,\n",
        "    time=MCMC_R0.time(),\n",
        "    parameter_names=[r'$a$', r'$b$', r'$c$', r'$m$', r'$\\mu_m$', r'$r$',\n",
        "                     r'$\\sigma_h$', r'$\\sigma_m$'])\n",
        "print(RESULTS_R0)\n",
        "\n",
        "plt.figure()\n",
        "pints.plot.trace(CHAINS_R0)\n",
        "plt.show()"
      ]
    },
    {
      "cell_type": "markdown",
      "id": "c10d13da",
      "metadata": {
        "id": "c10d13da"
      },
      "source": [
        "## Intervention\n",
        "\n",
        "Mosquito nets are distributed reducing the parameter from $a=0.2$ to $a=0.01$."
      ]
    },
    {
      "cell_type": "code",
      "execution_count": null,
      "id": "b88996cf",
      "metadata": {
        "id": "b88996cf"
      },
      "outputs": [],
      "source": [
        "PARS_Fig3_INTERV = {r'$a$':0.01, r'$b$':0.5, r'$c$':0.5,\n",
        "                    r'$m$':20, r'$\\mu_m$':0.12, r'$r$':0.01}\n",
        "RPARS_Fig3_INTERV = reduce_Ross0_pars(PARS_Fig3_INTERV)"
      ]
    },
    {
      "cell_type": "code",
      "execution_count": null,
      "id": "276f1f49",
      "metadata": {
        "id": "276f1f49"
      },
      "outputs": [],
      "source": [
        "M0_INTERV = ModelRoss0(s0=STATES0[20], t0=0, tf=250, nbsteps=250,\n",
        "                       model_pars=RPARS_Fig3_INTERV)\n",
        "\n",
        "MODEL_PARS0_INTERV = M0_INTERV.pars\n",
        "TIMES0_INTERV = M0_INTERV.t_span\n",
        "STATES0_INTERV = M0_INTERV.simulate(parameters=MODEL_PARS0_INTERV, times=TIMES0_INTERV)"
      ]
    },
    {
      "cell_type": "code",
      "execution_count": null,
      "id": "f39ca8a0",
      "metadata": {
        "id": "f39ca8a0"
      },
      "outputs": [],
      "source": [
        "N, d = STATES0.shape\n",
        "s = 0.1\n",
        "NOISE = s*np.random.randn(N, d)\n",
        "OBS0 = STATES0 + NOISE"
      ]
    },
    {
      "cell_type": "code",
      "execution_count": null,
      "id": "c412b604",
      "metadata": {
        "id": "c412b604"
      },
      "outputs": [],
      "source": [
        "CONTROLLED_STATES = np.vstack((STATES0[:20],STATES0_INTERV[:130]))"
      ]
    },
    {
      "cell_type": "code",
      "execution_count": null,
      "id": "ffa421ff",
      "metadata": {
        "id": "ffa421ff"
      },
      "outputs": [],
      "source": [
        "s_h, s_m = 0.025, 0.1"
      ]
    },
    {
      "cell_type": "code",
      "execution_count": null,
      "id": "f1d212b0",
      "metadata": {
        "id": "f1d212b0"
      },
      "outputs": [],
      "source": [
        "OBSERVATIONS0 = CONTROLLED_STATES[::10] + np.array([s_h, s_m])*np.random.randn(15, 2)"
      ]
    },
    {
      "cell_type": "code",
      "execution_count": null,
      "id": "4511c6d9",
      "metadata": {
        "id": "4511c6d9"
      },
      "outputs": [],
      "source": [
        "plt.plot(OBSERVATIONS0)"
      ]
    },
    {
      "cell_type": "code",
      "execution_count": null,
      "id": "7586e10d",
      "metadata": {
        "id": "7586e10d"
      },
      "outputs": [],
      "source": [
        "plt.plot(CONTROLLED_STATES[:,0])\n",
        "plt.scatter(np.arange(0, 150, 10), OBSERVATIONS0[:,0])\n",
        "plt.plot(CONTROLLED_STATES[:,1], color='red')\n",
        "plt.scatter(np.arange(0, 150, 10), OBSERVATIONS0[:,1], color='red')\n",
        "#plt.plot(np.arange(0, 150, 10), OBSERVATIONS0[:,1])"
      ]
    },
    {
      "cell_type": "markdown",
      "id": "7618a1af",
      "metadata": {
        "id": "7618a1af"
      },
      "source": [
        "# Extended Model $\\text{Ross}_1$\n",
        "\n",
        "**QUESTION BM**: Where does this model come from? Explain the model and its parameters, e.g. What is $\\Pi_{h}$, etc. Can't the model be simplified?\n",
        "I have replaced the subcript $v$ by $m$ (for mosquito) already.\n",
        "\n",
        "The  extended endemic  model  of  malaria  transmission  considered is  SIR  in  the human  population  and  SI in  the mosquito  population.  The  model  is  formulated  for  the  spread  of  malaria  in  the  human  and  mosquito population  with  the  total  population  size  at  time  $t$  denoted  by $N_{h}(t)$ and   $N_{m}(t)$ respectively. The system of *ODE*s describing the malaria takes the form:\n",
        "\n",
        "\\begin{align*}\n",
        "\\frac{dS_{h}}{dt} &= - \\alpha_{h}S_{h} -\\beta_{h}S_{h}I_{m} + \\pi_{h}\\\\\n",
        "\\frac{dI_{h}}{dt} &=  - \\underline{\\left(\\alpha_{h} + \\gamma_{h} + \\rho_{h} - \\delta_{h}\\right)}_\\text{$= \\omega_h$}I_{h} + \\beta_{h}S_{h}I_{m}\\\\\n",
        "\\frac{dR_{h}}{dt} &= -\\alpha_{h}R_{h} + \\gamma_{h}I_{h}\\\\\n",
        "\\frac{dS_{m}}{dt} &= - \\alpha_{m}S_{m} -\\beta_{m}S_{m}I_{h} + \\pi_{m}\\\\\n",
        "\\frac{dI_{m}}{dt} &= -\\alpha_{m}I_{m} + \\beta_{m}S_{m}I_{h}\n",
        "\\end{align*}\n",
        "\n",
        "States are represented as $$\\mathbf{S}(t) = (S_h(t), I_h(t), R_h(t), S_m(t), I_m(t))$$ and the initial state as $$\\mathbf{S}(0) = (s_h, i_h, r_h, s_m, i_m)$$\n",
        "\n",
        "The populations of humans and mosquitos at time $t$ are\n",
        "\\begin{align*}\n",
        "N_h(t) &\\triangleq S_h(t) + I_h(t) + R_h(t)\\\\\n",
        "N_m(t) &\\triangleq S_m(t) + I_m(t)\n",
        "\\end{align*}\n",
        "respectively."
      ]
    },
    {
      "cell_type": "markdown",
      "id": "39acba39",
      "metadata": {
        "id": "39acba39"
      },
      "source": [
        "**Important Property**\n",
        "\n",
        "When $s_h, i_h, r_h, s_m, \\text{ and } i_m > 0$ such that\n",
        "$N_h(0) = s_h + i_h + r_h \\leq \\frac{\\pi_h}{\\alpha_h}$ and $N_m(0) = s_m + i_m \\leq \\frac{\\pi_m}{\\alpha_m}$ then $\\mathbf{S}(t)$ is feasible, i.e. represents a solution where all components are non-negative, and satifies\n",
        "$N_h(t) \\leq \\frac{\\pi_h}{\\alpha_h}$ and $N_m(t) \\leq \\frac{\\pi_m}{\\alpha_m}$\n",
        "for all $t>0$."
      ]
    },
    {
      "cell_type": "code",
      "execution_count": null,
      "id": "90dcb099",
      "metadata": {
        "id": "90dcb099"
      },
      "outputs": [],
      "source": [
        "PARS_Fig2 = {r'$a_h$':0.05, r'$b_h$':0.01, r'$c_h$':0.9, r'$d_h$':0.001, r'$p_h$':10, r'$r_h$':0.01,\n",
        "             r'$a_m$':2, r'$b_m$':0.005, r'$p_m$':25}\n",
        "\n",
        "S0_Fig2 = np.array([120, 20, 18, 110, 240])"
      ]
    },
    {
      "cell_type": "code",
      "execution_count": null,
      "id": "87563073",
      "metadata": {
        "id": "87563073"
      },
      "outputs": [],
      "source": [
        "PARS_Fig3 = {r'$a_h$':0.05, r'$b_h$':0.01, r'$c_h$':0.9, r'$d_h$':0.1, r'$p_h$':2.5, r'$r_h$':0.001,\n",
        "             r'$a_m$':0.06, r'$b_m$':0.005, r'$p_m$':125}\n",
        "\n",
        "S0_Fig3 = np.array([360, 40, 36, 220, 480])"
      ]
    },
    {
      "cell_type": "code",
      "execution_count": null,
      "id": "dda34b08",
      "metadata": {
        "id": "dda34b08"
      },
      "outputs": [],
      "source": [
        "PARS_Fig4 = {r'$a_h$':0.05, r'$b_h$':0.01, r'$c_h$':0.9, r'$d_h$':0.001, r'$p_h$':10, r'$r_h$':0.01,\n",
        "        r'$a_m$':2, r'$b_m$':0.005, r'$p_m$':25}\n",
        "\n",
        "S0_Fig4 = np.array([120, 20, 18, 110, 240])"
      ]
    },
    {
      "cell_type": "markdown",
      "id": "9499b37c",
      "metadata": {
        "id": "9499b37c"
      },
      "source": [
        "# Quantify model uncertainty\n",
        "\n",
        "We are in the following situation. We are given a\n",
        "\n",
        "1. Dynamical but we are uncertain about both its initial state and exact parameter values. At best\n",
        "we know their range.\n",
        "\n",
        "2. Observations regarding (some of) the state components.\n",
        "\n",
        "As a result, we cannot integrate the dynamical system anymore. Instead we look for a probability distribution of the initial state and parameters that quantify our uncertainty in their values given the available (partial) observations of the state components. This is the so-called posterior distribution. Bayesian inference will produce it once we have specified the prior distribution.\n",
        "\n",
        "Once we have obtained the posterior we can construct the posterior predictive distribution\n",
        "from which the average solution can be derived.\n",
        "\n",
        "We are using the *pints*-package to do Bayesian inference."
      ]
    },
    {
      "cell_type": "markdown",
      "id": "0d5e6af1",
      "metadata": {
        "id": "0d5e6af1"
      },
      "source": [
        "The following experiment is performed on $Ross_1$:\n",
        "    \n",
        "1. We define the ground truth, i.e. we determine the initial state (5 unknowns) and the parameters (8 unknowns) of $Ross_1$.\n",
        "2. We define priors for the unknowns, i.e. half-Cauchy distributions for the initial state and lognormal ones for the parameters.\n",
        "3. We create observations of each state variable. The number and timesteps of the observations are the same for each state variable.\n",
        "   The noise might differ.\n",
        "4. We can use a Gaussian log likelihood since the noise in 3. is Gaussian. This simplifies inference.\n",
        "5. We setup 4 MCMC chains using the Haario-Bardenet adaptive sampler.\n",
        "6. We compare the posterior distributions of the unknowns to the ground truth.\n",
        "\n",
        "The parameter values in Table 3 of *SIR_Malaria_model.pdf*"
      ]
    },
    {
      "cell_type": "code",
      "execution_count": null,
      "id": "14dd27b0",
      "metadata": {
        "id": "14dd27b0"
      },
      "outputs": [],
      "source": [
        "class ModelRoss1(pints.ForwardModel):\n",
        "    def __init__(self, s0, t0, tf, nbsteps, model_pars):\n",
        "        self.s0 = np.array(s0, dtype=float)\n",
        "        self.t_span = np.linspace(t0, tf, num=nbsteps, endpoint=True)\n",
        "        self.pars = list(model_pars)\n",
        "        # For later use\n",
        "        self.unknowns = None\n",
        "\n",
        "    def Ross1(self, s, t, a_h, b_h, c_h, d_h, p_h, r_h, a_m, b_m, p_m):\n",
        "        o_h = a_h + c_h + r_h - d_h\n",
        "        Sh, Ih, Rh, Sm, Im = s\n",
        "        dShdt = -a_h*Sh - b_h*Sh*Im + p_h\n",
        "        dIhdt = -o_h*Ih + b_h*Sh*Im\n",
        "        dRhdt = -a_h*Rh + c_h*Ih\n",
        "        dSmdt = -a_m*Sm - b_m*Sm*Ih + p_m\n",
        "        dImdt = -a_m*Im + b_m*Sm*Ih\n",
        "        return np.array([dShdt, dIhdt, dRhdt, dSmdt, dImdt])\n",
        "\n",
        "    def simulate(self, parameters, times):\n",
        "        (a_h, b_h, c_h, d_h, p_h, r_h, a_m, b_m, p_m) = parameters\n",
        "        # Run a simulation with the given parameters for the\n",
        "        # given times and return the simulated values\n",
        "        states = odeint(self.Ross1, self.s0, times,\n",
        "                        args=(a_h, b_h, c_h, d_h, p_h, r_h, a_m, b_m, p_m))\n",
        "        return states\n",
        "\n",
        "    def n_parameters(self):\n",
        "        # Return the number of 'parameters'\n",
        "        return 9\n",
        "\n",
        "    def n_outputs(self):\n",
        "        \"\"\" See :meth:`pints.ForwardModel.n_outputs()`.\n",
        "            \"\"\"\n",
        "        return 5"
      ]
    },
    {
      "cell_type": "markdown",
      "id": "0586a1df",
      "metadata": {
        "id": "0586a1df"
      },
      "source": [
        "### Table 3"
      ]
    },
    {
      "cell_type": "code",
      "execution_count": null,
      "id": "0c4b8016",
      "metadata": {
        "id": "0c4b8016"
      },
      "outputs": [],
      "source": [
        "def get_Ross1_reproductive_number(pars):\n",
        "    (a_h, b_h, c_h, d_h, p_h, r_h, a_m, b_m, p_m) = pars\n",
        "    o_h = a_h + c_h + r_h - d_h\n",
        "    factor1 = (b_h*p_h)/(a_h*a_m)\n",
        "    factor2 = (b_m*p_m)/(a_m*o_h)\n",
        "    return np.sqrt(factor1*factor2)"
      ]
    },
    {
      "cell_type": "code",
      "execution_count": null,
      "id": "e026fce2",
      "metadata": {
        "id": "e026fce2"
      },
      "outputs": [],
      "source": [
        "GT_PARS_T3 = {r'$a_h$':0.05, r'$b_h$':0.01, r'$c_h$':0.9, r'$d_h$':0.001, r'$p_h$':10,\n",
        "              r'$r_h$':0.01, r'$a_m$':2, r'$b_m$':0.005, r'$p_m$':25}\n",
        "\n",
        "GT_S_T3 = (Sh, Ih, Rh, Sm, Im) = (120, 20, 18, 110, 240)\n",
        "\n",
        "R_0_T3 = get_Ross1_reproductive_number(GT_PARS_T3.values())"
      ]
    },
    {
      "cell_type": "code",
      "execution_count": null,
      "id": "0c9d441e",
      "metadata": {
        "id": "0c9d441e"
      },
      "outputs": [],
      "source": [
        "M_T3 = ModelRoss1(s0=np.array(GT_S_T3),\n",
        "                  t0=0, tf=10, nbsteps=100,\n",
        "                  model_pars=GT_PARS_T3.values())"
      ]
    },
    {
      "cell_type": "code",
      "execution_count": null,
      "id": "5fd7dc27",
      "metadata": {
        "id": "5fd7dc27"
      },
      "outputs": [],
      "source": [
        "run_and_plot_simulation(model=M_T3, basic_Ross_p=False)"
      ]
    },
    {
      "cell_type": "markdown",
      "id": "b581ee64",
      "metadata": {
        "id": "b581ee64"
      },
      "source": [
        "### Table 4"
      ]
    },
    {
      "cell_type": "code",
      "execution_count": null,
      "id": "4ac82d53",
      "metadata": {
        "id": "4ac82d53"
      },
      "outputs": [],
      "source": [
        "GT_PARS_T4 = {r'$a_h$':0.05, r'$b_h$':0.01, r'$c_h$':0.9, r'$d_h$':0.1, r'$p_h$':2.5,\n",
        "              r'$r_h$':0.001, r'$a_m$':0.06, r'$b_m$':0.005, r'$p_m$':125}\n",
        "\n",
        "GT_S_T4 = (Sh, Ih, Rh, Sm, Im) = (360, 40, 36, 220, 480)\n",
        "\n",
        "R_0_T4 = get_Ross1_reproductive_number(GT_PARS_T4.values())"
      ]
    },
    {
      "cell_type": "code",
      "execution_count": null,
      "id": "6f0112ac",
      "metadata": {
        "id": "6f0112ac"
      },
      "outputs": [],
      "source": [
        "M_T4 = ModelRoss1(s0=np.array(GT_S_T4),\n",
        "                  t0=0, tf=10, nbsteps=100,\n",
        "                  model_pars=GT_PARS_T4.values())"
      ]
    },
    {
      "cell_type": "code",
      "execution_count": null,
      "id": "9f40f540",
      "metadata": {
        "id": "9f40f540"
      },
      "outputs": [],
      "source": [
        "def plot_Ross1_simulation(times, states):\n",
        "    fig, ax = plt.subplots(nrows=1, ncols=1, figsize=(9,6))\n",
        "    (Sh, Ih, Rh, Sm, Im) = states[:,0], states[:,1], states[:,2], states[:,3], states[:,4]\n",
        "    ax.plot(times, Sh, color='blue', label=r'$S_h$')\n",
        "    ax.plot(times, Ih, color='red', label=r'$I_h$')\n",
        "    ax.plot(times, Rh, color='green', label=r'$R_h$')\n",
        "    ax.plot(times, Sm, '--', color='blue', label=r'$S_m$')\n",
        "    ax.plot(times, Im, '--', color='red', label=r'$I_m$')\n",
        "    ax.legend()\n",
        "    return fig"
      ]
    },
    {
      "cell_type": "code",
      "execution_count": null,
      "id": "1ad652c0",
      "metadata": {
        "id": "1ad652c0"
      },
      "outputs": [],
      "source": [
        "FIG, _ = run_and_plot_simulation(model=M_T4, basic_Ross_p=False)"
      ]
    },
    {
      "cell_type": "code",
      "execution_count": null,
      "id": "eb6b6f46",
      "metadata": {
        "id": "eb6b6f46"
      },
      "outputs": [],
      "source": [
        "FIG.savefig(./'GroundTruth')"
      ]
    },
    {
      "cell_type": "code",
      "execution_count": null,
      "id": "d66bee7b",
      "metadata": {
        "id": "d66bee7b"
      },
      "outputs": [],
      "source": [
        "FIG.savefig('GroundTruth')"
      ]
    },
    {
      "cell_type": "code",
      "execution_count": null,
      "id": "21a9f69f",
      "metadata": {
        "id": "21a9f69f"
      },
      "outputs": [],
      "source": [
        "POP_T3 = generate_initial_samples(model=M_T3, n_chains=4)"
      ]
    },
    {
      "cell_type": "code",
      "execution_count": null,
      "id": "0d39b463",
      "metadata": {
        "id": "0d39b463"
      },
      "outputs": [],
      "source": [
        "MCMC_T3, CHAINS_T3, PROB_T3 = run_sampler(model=M_T3, max_iter=5_000)"
      ]
    },
    {
      "cell_type": "code",
      "execution_count": null,
      "id": "47118257",
      "metadata": {
        "id": "47118257"
      },
      "outputs": [],
      "source": [
        "# Check convergence and other properties of chains\n",
        "RESULTS_T3 = pints.MCMCSummary(\n",
        "    chains=CHAINS_T3,\n",
        "    time=MCMC_T3.time(),\n",
        "    parameter_names=[r'$a_h$', r'$b_h$', r'$c_h$', r'$d_h$', r'$p_h$', r'$r_h$', r'$a_m$', r'$b_m$', r'$p_m$',\n",
        "                     r'$\\sigma_{Sh}$', r'$\\sigma_{Ih}$', r'$\\sigma_{Rh}$', r'$\\sigma_{Sm}$', r'$\\sigma_{Im}$'])\n",
        "\n",
        "print(RESULTS_T3)"
      ]
    },
    {
      "cell_type": "code",
      "execution_count": null,
      "id": "ad87be79",
      "metadata": {
        "id": "ad87be79"
      },
      "outputs": [],
      "source": [
        "plt.figure()\n",
        "pints.plot.trace(\n",
        "    CHAINS_T3,\n",
        "    parameter_names=[r'$a_h$', r'$b_h$', r'$c_h$', r'$d_h$', r'$p_h$', r'$r_h$', r'$a_m$', r'$b_m$', r'$p_m$',\n",
        "                     r'$\\sigma_{Sh}$', r'$\\sigma_{Ih}$', r'$\\sigma_{Rh}$', r'$\\sigma_{Sm}$', r'$\\sigma_{Im}$'])\n",
        "plt.show()"
      ]
    },
    {
      "cell_type": "code",
      "execution_count": null,
      "id": "5a0b54c2",
      "metadata": {
        "id": "5a0b54c2"
      },
      "outputs": [],
      "source": [
        "SAMPLES_T3 = CHAINS_T3[0, -2_000:]\n",
        "\n",
        "plt.figure()\n",
        "fig, axes = pints.plot.series(SAMPLES_T3, PROB_T3)\n",
        "\n",
        "#axes[0].plot(TIMES1, OBS1[:, 0], c='red')\n",
        "#axes[1].plot(TIMES1, OBS1[:, 1], c='blue')\n",
        "#axes[2].plot(TIMES1, OBS1[:, 2], c='brown')\n",
        "#axes[3].plot(TIMES1, OBS1[:, 3], c='yellow')\n",
        "#axes[4].plot(TIMES1, OBS1[:, 4], c='green');"
      ]
    },
    {
      "cell_type": "markdown",
      "id": "8c9401b8",
      "metadata": {
        "id": "8c9401b8"
      },
      "source": [
        "# Generating the figures using ArviZ"
      ]
    },
    {
      "cell_type": "code",
      "execution_count": null,
      "id": "20493984",
      "metadata": {
        "id": "20493984"
      },
      "outputs": [],
      "source": [
        "import xarray as xr\n",
        "import arviz as az\n",
        "az.style.use('arviz-whitegrid')"
      ]
    },
    {
      "cell_type": "code",
      "execution_count": null,
      "id": "3eb1db4d",
      "metadata": {
        "id": "3eb1db4d"
      },
      "outputs": [],
      "source": [
        "def create_xarray_dataset(states, keys=None):\n",
        "    N, d = states.shape\n",
        "    if keys is None:\n",
        "        keys = [f'x_{coord}' for coord in range(d)]\n",
        "    assert len(keys)==d, f'Number of keys {keys} and dimension {d} are unequal!'\n",
        "    values = [(['chain', 'draw'], [states[:, coord]]) for coord in range(d)]\n",
        "    return xr.Dataset({key:value for key, value in zip(keys, values)},\n",
        "                      coords={'draw':np.arange(N), 'chain':[0]})"
      ]
    },
    {
      "cell_type": "code",
      "execution_count": null,
      "id": "c35b3446",
      "metadata": {
        "id": "c35b3446"
      },
      "outputs": [],
      "source": [
        "POST_T3 = create_xarray_dataset(\n",
        "    SAMPLES_T3,\n",
        "    keys=[r'$a_h$', r'$b_h$', r'$c_h$', r'$d_h$', r'$p_h$', r'$r_h$', r'$a_m$', r'$b_m$', r'$p_m$',\n",
        "                     r'$\\sigma_{Sh}$', r'$\\sigma_{Ih}$', r'$\\sigma_{Rh}$', r'$\\sigma_{Sm}$', r'$\\sigma_{Im}$'])\n",
        "POST_T3"
      ]
    },
    {
      "cell_type": "code",
      "execution_count": null,
      "id": "e837b004",
      "metadata": {
        "id": "e837b004"
      },
      "outputs": [],
      "source": [
        "AXES1 = az.plot_pair(POST_T3[[r'$a_h$', r'$a_m$']]);"
      ]
    },
    {
      "cell_type": "code",
      "execution_count": null,
      "id": "020cb7e8",
      "metadata": {
        "id": "020cb7e8"
      },
      "outputs": [],
      "source": [
        "AXES1"
      ]
    },
    {
      "cell_type": "code",
      "execution_count": null,
      "id": "a5638043",
      "metadata": {
        "id": "a5638043"
      },
      "outputs": [],
      "source": [
        "az.plot_autocorr(POST_T3);"
      ]
    },
    {
      "cell_type": "code",
      "execution_count": null,
      "id": "23654599",
      "metadata": {
        "id": "23654599"
      },
      "outputs": [],
      "source": [
        "az.plot_density(POST_T3);"
      ]
    },
    {
      "cell_type": "code",
      "execution_count": null,
      "id": "9d72b8a2",
      "metadata": {
        "id": "9d72b8a2"
      },
      "outputs": [],
      "source": [
        "AZ_DATA = az.convert_to_inference_data(CHAINS_T3)"
      ]
    },
    {
      "cell_type": "code",
      "execution_count": null,
      "id": "0c57135d",
      "metadata": {
        "id": "0c57135d"
      },
      "outputs": [],
      "source": [
        "az.plot_forest(AZ_DATA,\n",
        "               #var_names=[r'$a_h$', r'$b_h$', r'$c_h$', r'$d_h$', r'$p_h$', r'$r_h$', r'$a_m$', r'$b_m$', r'$p_m$',\n",
        "               #r'$\\sigma_{Sh}$', r'$\\sigma_{Ih}$', r'$\\sigma_{Rh}$', r'$\\sigma_{Sm}$', r'$\\sigma_{Im}$']\n",
        "              )"
      ]
    },
    {
      "cell_type": "code",
      "execution_count": null,
      "id": "5c4f5446",
      "metadata": {
        "id": "5c4f5446"
      },
      "outputs": [],
      "source": []
    }
  ],
  "metadata": {
    "kernelspec": {
      "display_name": "Python 3 (ipykernel)",
      "language": "python",
      "name": "python3"
    },
    "language_info": {
      "codemirror_mode": {
        "name": "ipython",
        "version": 3
      },
      "file_extension": ".py",
      "mimetype": "text/x-python",
      "name": "python",
      "nbconvert_exporter": "python",
      "pygments_lexer": "ipython3",
      "version": "3.7.4"
    },
    "colab": {
      "provenance": [],
      "include_colab_link": true
    }
  },
  "nbformat": 4,
  "nbformat_minor": 5
}